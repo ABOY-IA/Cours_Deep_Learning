{
 "cells": [
  {
   "cell_type": "code",
   "execution_count": null,
   "metadata": {
    "vscode": {
     "languageId": "plaintext"
    }
   },
   "outputs": [],
   "source": [
    "import tensorflow as tf\n",
    "import multiprocessing\n",
    "\n",
    "# Définir explicitement l'utilisation de tous les cœurs disponibles\n",
    "n_threads = multiprocessing.cpu_count()\n",
    "tf.config.threading.set_intra_op_parallelism_threads(n_threads)\n",
    "tf.config.threading.set_inter_op_parallelism_threads(n_threads)"
   ]
  },
  {
   "cell_type": "code",
   "execution_count": null,
   "metadata": {
    "vscode": {
     "languageId": "plaintext"
    }
   },
   "outputs": [],
   "source": [
    "from tensorflow.keras.datasets import boston_housing\n",
    "\n",
    "(x_train, y_train), (x_test, y_test) = boston_housing.load_data()\n",
    "\n",
    "print(\"train\")\n",
    "print(\"x\", x_train.shape)\n",
    "print(\"y\", y_train.shape)\n",
    "\n",
    "print(\"test\")\n",
    "print(\"x\", x_test.shape)\n",
    "print(\"y\", y_test.shape)"
   ]
  },
  {
   "cell_type": "code",
   "execution_count": null,
   "metadata": {
    "vscode": {
     "languageId": "plaintext"
    }
   },
   "outputs": [],
   "source": [
    "from sklearn.preprocessing import StandardScaler\n",
    "\n",
    "scaler = StandardScaler()\n",
    "x_train_scaled = scaler.fit_transform(x_train)\n",
    "x_test_scaled = scaler.transform(x_test)\n",
    "\n",
    "print(x_train_scaled.shape)\n",
    "print(x_test_scaled.shape)"
   ]
  },
  {
   "cell_type": "code",
   "execution_count": null,
   "metadata": {
    "vscode": {
     "languageId": "plaintext"
    }
   },
   "outputs": [],
   "source": [
    "from tensorflow.keras.models import Sequential\n",
    "from tensorflow.keras.layers import Input, Dense\n",
    "from tensorflow.keras import backend as K\n",
    "import matplotlib.pyplot as plt\n",
    "\n",
    "# Fonction pour calculer le R² qui n'est pas dispo dans Tensorflow:\n",
    "\"\"\"\n",
    "ss_res = sum of squares of residuals = somme des carrés des résidus (ou erreurs).\n",
    "ss_tot = sum of squares total = somme totale des carrés.\n",
    "K = module de backend de Tensorflow pour manipuler des tenseurs (objets mathématiques utilisés dans l'entraînement des modèles).\n",
    "\"\"\"\n",
    "def r2_metric(y_true, y_pred):\n",
    "    ss_res = K.sum(K.square(y_true - y_pred))\n",
    "    ss_tot = K.sum(K.square(y_true - K.mean(y_true)))\n",
    "    return 1 - ss_res / (ss_tot + K.epsilon())\n",
    "\n",
    "class MonModelRegression:\n",
    "    def __init__(self, input_dim, nb_units, activation):\n",
    "        \"\"\" initialise l'instance de la classe:\n",
    "            1 - les attributs\n",
    "            2 - Création du réseau de neurones\n",
    "            3 - Compilation du réseau \"\"\"\n",
    "        # attributs de ma classe\n",
    "        self.input_dim = input_dim\n",
    "        self.nb_units = nb_units\n",
    "        self.activation = activation\n",
    "        # Création du réseau de neurones\n",
    "        self.MonReseau_creation()\n",
    "        # Compilation du réseau\n",
    "        self.MonReseau_compile()\n",
    "\n",
    "    def MonReseau_creation(self):\n",
    "        model = Sequential()\n",
    "        # INPUT LAYER\n",
    "        model.add(Input(shape=(self.input_dim,)))\n",
    "        # HIDDEN LAYERS\n",
    "        model.add(Dense(units=self.nb_units,\n",
    "                        activation=self.activation))\n",
    "        # OUTPUT LAYER\n",
    "        model.add(Dense(units=1))\n",
    "        self.model = model\n",
    "\n",
    "    def MonReseau_compile(self):\n",
    "        self.model.compile(optimizer=\"adam\", \n",
    "              loss=\"mse\",\n",
    "              metrics=[\"mae\", r2_metric])\n",
    "\n",
    "    def train_model(self, x_train, y_train, x_test, y_test, batch_size=128, epochs=1000, verbose=True):\n",
    "        self.history = self.model.fit(\n",
    "            x_train, y_train,\n",
    "            validation_data=(x_test, y_test),\n",
    "            batch_size=batch_size,\n",
    "            epochs=epochs,\n",
    "            verbose=verbose\n",
    "        )\n",
    "           \n",
    "    def predire(self, data):\n",
    "        return self.model.predict(data)\n",
    "    \n",
    "    def plot_loss_mse(self):\n",
    "        plt.figure()\n",
    "        plt.plot(self.history.history[\"loss\"], label=\"Training Loss (MSE)\")\n",
    "        plt.plot(self.history.history[\"val_loss\"], label=\"Validation Loss (MSE)\")\n",
    "        plt.grid()\n",
    "        plt.legend()\n",
    "        plt.title(\"Mean Squared Error (MSE)\")\n",
    "\n",
    "    def plot_metric_mae(self):\n",
    "        plt.figure()\n",
    "        plt.plot(self.history.history[\"mae\"], label=\"Training MAE\")\n",
    "        plt.plot(self.history.history[\"val_mae\"], label=\"Validation MAE\")\n",
    "        plt.grid()\n",
    "        plt.legend()\n",
    "        plt.title(\"Mean Absolute Error (MAE)\")\n",
    "\n",
    "    def plot_metric_r2(self):\n",
    "        # Vérifie si R² a été enregistré :\n",
    "        if \"r2_metric\" in self.history.history:\n",
    "            plt.figure()\n",
    "            plt.plot(self.history.history[\"r2_metric\"], label=\"Training R²\")\n",
    "            plt.plot(self.history.history[\"val_r2_metric\"], label=\"Validation R²\")\n",
    "            plt.grid()\n",
    "            plt.legend()\n",
    "            plt.title(\"Coefficient de détermination (R²)\")\n",
    "    \n",
    "    def save_model(self, chemin_fichier):\n",
    "        \"\"\"\n",
    "        Sauvegarde le modèle complet au chemin spécifié.\n",
    "        :param chemin_fichier: Chemin du fichier où sauvegarder le modèle\n",
    "        (doit se terminer par .keras, .h5 ou être un répertoire pour le format SavedModel).\n",
    "        \"\"\"\n",
    "        self.model.save(chemin_fichier)\n",
    "        print(f\"Modèle sauvegardé à l'emplacement : {chemin_fichier}\")"
   ]
  },
  {
   "cell_type": "code",
   "execution_count": null,
   "metadata": {
    "vscode": {
     "languageId": "plaintext"
    }
   },
   "outputs": [],
   "source": [
    "from sklearn.linear_model import LinearRegression\n",
    "from sklearn.metrics import mean_squared_error, mean_absolute_error, r2_score\n",
    "import time\n",
    "\n",
    "# Régression Linéaire classique\n",
    "start_time = time.time()\n",
    "linear_model = LinearRegression()\n",
    "linear_model.fit(x_train_scaled, y_train)\n",
    "training_time_linear = time.time() - start_time\n",
    "\n",
    "start_time = time.time()\n",
    "y_pred_linear = linear_model.predict(x_test_scaled)\n",
    "mse_linear = mean_squared_error(y_test, y_pred_linear)\n",
    "mae_linear = mean_absolute_error(y_test, y_pred_linear)\n",
    "r2_linear = r2_score(y_test, y_pred_linear)\n",
    "predict_time_linear = time.time() - start_time\n",
    "\n",
    "# Régression Linéaire par réseau de neurones\n",
    "start_time = time.time()\n",
    "model_regression = MonModelRegression(input_dim=x_train_scaled.shape[1], nb_units=64, activation=\"relu\")\n",
    "model_regression.train_model(x_train_scaled, y_train, x_test_scaled, y_test, verbose=False)\n",
    "training_time_nn = time.time() - start_time\n",
    "\n",
    "start_time = time.time()\n",
    "y_pred_nn = model_regression.predire(x_test_scaled)\n",
    "mse_nn = mean_squared_error(y_test, y_pred_nn)\n",
    "mae_nn = mean_absolute_error(y_test, y_pred_nn)\n",
    "r2_nn = r2_score(y_test, y_pred_nn)\n",
    "predict_time_nn = time.time() - start_time\n",
    "\n",
    "# Résultats\n",
    "print(\"=== Modèle de Régression Linéaire ===\")\n",
    "print(f\"Mean Squared Error (MSE): {mse_linear:.4f}\")\n",
    "print(f\"Mean Absolute Error (MAE): {mae_linear:.4f}\")\n",
    "print(f\"Coefficient de Détermination (R²): {r2_linear:.4f}\")\n",
    "print(f\"Temps d'entraînement: {training_time_linear:.4f} secondes\")\n",
    "print(f\"Temps de prédiction: {predict_time_linear:.4f} secondes\")\n",
    "\n",
    "print(\"\\n=== Réseau de Neurones ===\")\n",
    "print(f\"Mean Squared Error (MSE): {mse_nn:.4f}\")\n",
    "print(f\"Mean Absolute Error (MAE): {mae_nn:.4f}\")\n",
    "print(f\"Coefficient de Détermination (R²): {r2_nn:.4f}\")\n",
    "print(f\"Temps d'entraînement: {training_time_nn:.4f} secondes\")\n",
    "print(f\"Temps de prédiction: {predict_time_nn:.4f} secondes\")\n",
    "\n",
    "model_regression.plot_loss_mse()\n",
    "model_regression.plot_metric_mae()\n",
    "model_regression.plot_metric_r2()\n",
    "plt.show()\n",
    "\n",
    "# Sauvegarde du modèle\n",
    "model_regression.sauvegarder_modele(\"c:/Users/aboys/Documents/Simplon/Cours_Exos/Deep_Learning/Cours/mon_modele_regression.keras\")"
   ]
  }
 ],
 "metadata": {
  "language_info": {
   "name": "python"
  }
 },
 "nbformat": 4,
 "nbformat_minor": 2
}
